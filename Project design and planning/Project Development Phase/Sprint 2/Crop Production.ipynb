{
 "cells": [
  {
   "cell_type": "code",
   "execution_count": 3,
   "id": "98a66dc0",
   "metadata": {},
   "outputs": [],
   "source": [
    "import pandas as pd\n",
    "import matplotlib.pyplot as plt\n",
    "df  = pd.read_csv(\"crop_production.csv\")\n"
   ]
  },
  {
   "cell_type": "code",
   "execution_count": 4,
   "id": "43fa5ff9",
   "metadata": {},
   "outputs": [
    {
     "name": "stdout",
     "output_type": "stream",
     "text": [
      "Any missing data or NaN in the dataset: True\n"
     ]
    }
   ],
   "source": [
    "print(str('Any missing data or NaN in the dataset:'),df.isnull().values.any())"
   ]
  },
  {
   "cell_type": "code",
   "execution_count": 5,
   "id": "6ddd2b46",
   "metadata": {},
   "outputs": [
    {
     "data": {
      "text/plain": [
       "State_Name          0\n",
       "District_Name       0\n",
       "Crop_Year           0\n",
       "Season              0\n",
       "Crop                0\n",
       "Area                0\n",
       "Production       3730\n",
       "dtype: int64"
      ]
     },
     "execution_count": 5,
     "metadata": {},
     "output_type": "execute_result"
    }
   ],
   "source": [
    "df.isnull().sum()"
   ]
  },
  {
   "cell_type": "code",
   "execution_count": 6,
   "id": "540bed89",
   "metadata": {},
   "outputs": [],
   "source": [
    "df1=df.dropna()"
   ]
  },
  {
   "cell_type": "code",
   "execution_count": 7,
   "id": "00810e2a",
   "metadata": {},
   "outputs": [
    {
     "data": {
      "text/plain": [
       "State_Name       0\n",
       "District_Name    0\n",
       "Crop_Year        0\n",
       "Season           0\n",
       "Crop             0\n",
       "Area             0\n",
       "Production       0\n",
       "dtype: int64"
      ]
     },
     "execution_count": 7,
     "metadata": {},
     "output_type": "execute_result"
    }
   ],
   "source": [
    "df1.isnull().sum()"
   ]
  },
  {
   "cell_type": "code",
   "execution_count": 15,
   "id": "ad807683",
   "metadata": {},
   "outputs": [
    {
     "data": {
      "text/plain": [
       "<AxesSubplot:xlabel='Area'>"
      ]
     },
     "execution_count": 15,
     "metadata": {},
     "output_type": "execute_result"
    },
    {
     "data": {
      "image/png": "[encoded data removed]",
      "text/plain": [
       "<Figure size 432x288 with 1 Axes>"
      ]
     },
     "metadata": {
      "needs_background": "light"
     },
     "output_type": "display_data"
    }
   ],
   "source": [
    "import seaborn as sns\n",
    "sns.boxplot(x=df1[\"Area\"])"
   ]
  },
  {
   "cell_type": "code",
   "execution_count": 17,
   "id": "0713558f",
   "metadata": {},
   "outputs": [
    {
     "name": "stdout",
     "output_type": "stream",
     "text": [
      "13.0\n",
      "27806.0\n"
     ]
    }
   ],
   "source": [
    "print(df1['Area'].quantile(0.10))\n",
    "print(df1['Area'].quantile(0.90))"
   ]
  },
  {
   "cell_type": "code",
   "execution_count": 19,
   "id": "ebf41629",
   "metadata": {},
   "outputs": [
    {
     "name": "stdout",
     "output_type": "stream",
     "text": [
      "1.8314510551117793\n"
     ]
    },
    {
     "name": "stderr",
     "output_type": "stream",
     "text": [
      "C:\\Users\\KEERTH~1\\AppData\\Local\\Temp/ipykernel_10560/2673192833.py:2: SettingWithCopyWarning: \n",
      "A value is trying to be set on a copy of a slice from a DataFrame.\n",
      "Try using .loc[row_indexer,col_indexer] = value instead\n",
      "\n",
      "See the caveats in the documentation: https://pandas.pydata.org/pandas-docs/stable/user_guide/indexing.html#returning-a-view-versus-a-copy\n",
      "  df1[\"Area\"] = np.where(df1[\"Area\"] <13.0,13.0 ,df1['Area'])\n",
      "C:\\Users\\KEERTH~1\\AppData\\Local\\Temp/ipykernel_10560/2673192833.py:3: SettingWithCopyWarning: \n",
      "A value is trying to be set on a copy of a slice from a DataFrame.\n",
      "Try using .loc[row_indexer,col_indexer] = value instead\n",
      "\n",
      "See the caveats in the documentation: https://pandas.pydata.org/pandas-docs/stable/user_guide/indexing.html#returning-a-view-versus-a-copy\n",
      "  df1[\"Area\"] = np.where(df1[\"Area\"] >27806.0,27806.0,df1['Area'])\n"
     ]
    }
   ],
   "source": [
    "import numpy as np\n",
    "df1[\"Area\"] = np.where(df1[\"Area\"] <13.0,13.0 ,df1['Area'])\n",
    "df1[\"Area\"] = np.where(df1[\"Area\"] >27806.0,27806.0,df1['Area'])\n",
    "print(df1['Area'].skew())"
   ]
  },
  {
   "cell_type": "code",
   "execution_count": 20,
   "id": "b6273f3a",
   "metadata": {},
   "outputs": [
    {
     "data": {
      "text/plain": [
       "<AxesSubplot:xlabel='Area'>"
      ]
     },
     "execution_count": 20,
     "metadata": {},
     "output_type": "execute_result"
    },
    {
     "data": {
      "image/png": "[encoded data removed]",
      "text/plain": [
       "<Figure size 432x288 with 1 Axes>"
      ]
     },
     "metadata": {
      "needs_background": "light"
     },
     "output_type": "display_data"
    }
   ],
   "source": [
    "sns.boxplot(x=df1[\"Area\"])"
   ]
  },
  {
   "cell_type": "code",
   "execution_count": 23,
   "id": "4ab0bbf3",
   "metadata": {},
   "outputs": [
    {
     "name": "stdout",
     "output_type": "stream",
     "text": [
      "13.0\n",
      "27806.0\n"
     ]
    }
   ],
   "source": [
    "print(df1['Area'].quantile(0.10))\n",
    "print(df1['Area'].quantile(0.90))"
   ]
  },
  {
   "cell_type": "code",
   "execution_count": 26,
   "id": "af25882d",
   "metadata": {},
   "outputs": [
    {
     "data": {
      "text/plain": [
       "<AxesSubplot:xlabel='Production'>"
      ]
     },
     "execution_count": 26,
     "metadata": {},
     "output_type": "execute_result"
    },
    {
     "data": {
      "image/png": "[encoded data removed]",
      "text/plain": [
       "<Figure size 432x288 with 1 Axes>"
      ]
     },
     "metadata": {
      "needs_background": "light"
     },
     "output_type": "display_data"
    }
   ],
   "source": [
    "sns.boxplot(x=df1[\"Production\"])"
   ]
  },
  {
   "cell_type": "code",
   "execution_count": 27,
   "id": "511d0bdf",
   "metadata": {},
   "outputs": [
    {
     "name": "stdout",
     "output_type": "stream",
     "text": [
      "10.0\n",
      "58941.0\n"
     ]
    }
   ],
   "source": [
    "print(df1['Production'].quantile(0.10))\n",
    "print(df1['Production'].quantile(0.90))"
   ]
  },
  {
   "cell_type": "code",
   "execution_count": 28,
   "id": "84b0e1d8",
   "metadata": {},
   "outputs": [
    {
     "name": "stdout",
     "output_type": "stream",
     "text": [
      "1.9483161360423034\n"
     ]
    },
    {
     "name": "stderr",
     "output_type": "stream",
     "text": [
      "C:\\Users\\KEERTH~1\\AppData\\Local\\Temp/ipykernel_10560/397230561.py:1: SettingWithCopyWarning: \n",
      "A value is trying to be set on a copy of a slice from a DataFrame.\n",
      "Try using .loc[row_indexer,col_indexer] = value instead\n",
      "\n",
      "See the caveats in the documentation: https://pandas.pydata.org/pandas-docs/stable/user_guide/indexing.html#returning-a-view-versus-a-copy\n",
      "  df1[\"Production\"] = np.where(df1[\"Production\"] <10.0,10.0 ,df1['Production'])\n",
      "C:\\Users\\KEERTH~1\\AppData\\Local\\Temp/ipykernel_10560/397230561.py:2: SettingWithCopyWarning: \n",
      "A value is trying to be set on a copy of a slice from a DataFrame.\n",
      "Try using .loc[row_indexer,col_indexer] = value instead\n",
      "\n",
      "See the caveats in the documentation: https://pandas.pydata.org/pandas-docs/stable/user_guide/indexing.html#returning-a-view-versus-a-copy\n",
      "  df1[\"Production\"] = np.where(df1[\"Production\"] >58941.0, 58941.0,df1['Production'])\n"
     ]
    }
   ],
   "source": [
    "df1[\"Production\"] = np.where(df1[\"Production\"] <10.0,10.0 ,df1['Production'])\n",
    "df1[\"Production\"] = np.where(df1[\"Production\"] >58941.0, 58941.0,df1['Production'])\n",
    "print(df1['Production'].skew())"
   ]
  },
  {
   "cell_type": "code",
   "execution_count": 29,
   "id": "f4fd50a7",
   "metadata": {},
   "outputs": [
    {
     "data": {
      "text/plain": [
       "<AxesSubplot:xlabel='Production'>"
      ]
     },
     "execution_count": 29,
     "metadata": {},
     "output_type": "execute_result"
    },
    {
     "data": {
      "image/png": "[encoded data removed]",
      "text/plain": [
       "<Figure size 432x288 with 1 Axes>"
      ]
     },
     "metadata": {
      "needs_background": "light"
     },
     "output_type": "display_data"
    }
   ],
   "source": [
    "sns.boxplot(x=df1[\"Production\"])"
   ]
  },
  {
   "cell_type": "code",
   "execution_count": null,
   "id": "ff78c64a",
   "metadata": {},
   "outputs": [],
   "source": []
  }
 ],
 "metadata": {
  "kernelspec": {
   "display_name": "Python 3 (ipykernel)",
   "language": "python",
   "name": "python3"
  },
  "language_info": {
   "codemirror_mode": {
    "name": "ipython",
    "version": 3
   },
   "file_extension": ".py",
   "mimetype": "text/x-python",
   "name": "python",
   "nbconvert_exporter": "python",
   "pygments_lexer": "ipython3",
   "version": "3.9.4"
  }
 },
 "nbformat": 4,
 "nbformat_minor": 5
}
